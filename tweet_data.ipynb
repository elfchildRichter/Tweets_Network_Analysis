{
  "nbformat": 4,
  "nbformat_minor": 0,
  "metadata": {
    "colab": {
      "provenance": [],
      "toc_visible": true,
      "authorship_tag": "ABX9TyMhNvlMBkNRpHJ7W5Rr6Vy9"
    },
    "kernelspec": {
      "name": "python3",
      "display_name": "Python 3"
    },
    "language_info": {
      "name": "python"
    }
  },
  "cells": [
    {
      "cell_type": "code",
      "execution_count": null,
      "metadata": {
        "id": "j7ZgpdCo5GVv",
        "colab": {
          "base_uri": "https://localhost:8080/"
        },
        "outputId": "18b01e1c-af7c-45cd-9ad0-021730837c63"
      },
      "outputs": [
        {
          "output_type": "stream",
          "name": "stdout",
          "text": [
            "Mounted at /content/drive\n"
          ]
        }
      ],
      "source": [
        "import gzip\n",
        "import json\n",
        "import datetime\n",
        "\n",
        "from google.colab import drive\n",
        "drive.mount('/content/drive')\n",
        "\n",
        "WORKING_DIR = 'drive/MyDrive/dtsa5800_tweets_network_analysis'\n",
        "DATA_DIR = f'{WORKING_DIR}/data'\n",
        "DATA_FILE = f'{DATA_DIR}/nikelululemonadidas_tweets.jsonl.gz'"
      ]
    },
    {
      "cell_type": "markdown",
      "source": [
        "## Data"
      ],
      "metadata": {
        "id": "lB-NvWRt6pi5"
      }
    },
    {
      "cell_type": "code",
      "source": [
        "with gzip.open(DATA_FILE, 'rt') as f:\n",
        "    line = f.readline()\n",
        "    data = json.loads(line)\n",
        "    print(json.dumps(data, indent=4))"
      ],
      "metadata": {
        "colab": {
          "base_uri": "https://localhost:8080/"
        },
        "id": "TGV2oOnjdJfy",
        "outputId": "cac65baa-c8aa-402a-b2a2-37ccf6ec8c52"
      },
      "execution_count": null,
      "outputs": [
        {
          "output_type": "stream",
          "name": "stdout",
          "text": [
            "{\n",
            "    \"created_at\": \"Fri Oct 01 08:25:03 +0000 2021\",\n",
            "    \"id\": 1443854459625431000,\n",
            "    \"id_str\": \"1443854459625431041\",\n",
            "    \"full_text\": \"#ad The Nike Women's Air More Uptempo 96 'White/Opti Yellow' is now available via @footlocker! |$160| #SneakerScouts @Nike https://t.co/5lAq7b2ffU https://t.co/wmjxIcsheP\",\n",
            "    \"truncated\": false,\n",
            "    \"display_text_range\": [\n",
            "        0,\n",
            "        146\n",
            "    ],\n",
            "    \"entities\": {\n",
            "        \"hashtags\": [\n",
            "            {\n",
            "                \"text\": \"ad\",\n",
            "                \"indices\": [\n",
            "                    0,\n",
            "                    3\n",
            "                ]\n",
            "            },\n",
            "            {\n",
            "                \"text\": \"SneakerScouts\",\n",
            "                \"indices\": [\n",
            "                    102,\n",
            "                    116\n",
            "                ]\n",
            "            }\n",
            "        ],\n",
            "        \"symbols\": [],\n",
            "        \"user_mentions\": [\n",
            "            {\n",
            "                \"screen_name\": \"footlocker\",\n",
            "                \"name\": \"Foot Locker\",\n",
            "                \"id\": 22030851,\n",
            "                \"id_str\": \"22030851\",\n",
            "                \"indices\": [\n",
            "                    82,\n",
            "                    93\n",
            "                ]\n",
            "            },\n",
            "            {\n",
            "                \"screen_name\": \"Nike\",\n",
            "                \"name\": \"Nike\",\n",
            "                \"id\": 415859364,\n",
            "                \"id_str\": \"415859364\",\n",
            "                \"indices\": [\n",
            "                    117,\n",
            "                    122\n",
            "                ]\n",
            "            }\n",
            "        ],\n",
            "        \"urls\": [\n",
            "            {\n",
            "                \"url\": \"https://t.co/5lAq7b2ffU\",\n",
            "                \"expanded_url\": \"https://www.footlocker.com/product/~/D3035100.html?irclickid=R9hRvy2vcxyLWQd07OwzdzZ-UkBTPTz1QxOkxU0&sid=8259&cm_mmc=Affiliate-_-SneakerScouts-_--_-Content-_--_--_-p-_--_--_--_--_--_-ONLINE_TRACKING_LINK-_--_-Online%20Tracking%20Link-_--_-&irgwc=1\",\n",
            "                \"display_url\": \"footlocker.com/product/~/D303\\u2026\",\n",
            "                \"indices\": [\n",
            "                    123,\n",
            "                    146\n",
            "                ]\n",
            "            }\n",
            "        ],\n",
            "        \"media\": [\n",
            "            {\n",
            "                \"id\": 1443854458404941800,\n",
            "                \"id_str\": \"1443854458404941827\",\n",
            "                \"indices\": [\n",
            "                    147,\n",
            "                    170\n",
            "                ],\n",
            "                \"media_url\": \"http://pbs.twimg.com/media/FAmZ-uSXMAMy-iz.png\",\n",
            "                \"media_url_https\": \"https://pbs.twimg.com/media/FAmZ-uSXMAMy-iz.png\",\n",
            "                \"url\": \"https://t.co/wmjxIcsheP\",\n",
            "                \"display_url\": \"pic.twitter.com/wmjxIcsheP\",\n",
            "                \"expanded_url\": \"https://twitter.com/SneakerScouts/status/1443854459625431041/photo/1\",\n",
            "                \"type\": \"photo\",\n",
            "                \"sizes\": {\n",
            "                    \"medium\": {\n",
            "                        \"w\": 847,\n",
            "                        \"h\": 619,\n",
            "                        \"resize\": \"fit\"\n",
            "                    },\n",
            "                    \"large\": {\n",
            "                        \"w\": 847,\n",
            "                        \"h\": 619,\n",
            "                        \"resize\": \"fit\"\n",
            "                    },\n",
            "                    \"small\": {\n",
            "                        \"w\": 680,\n",
            "                        \"h\": 497,\n",
            "                        \"resize\": \"fit\"\n",
            "                    },\n",
            "                    \"thumb\": {\n",
            "                        \"w\": 150,\n",
            "                        \"h\": 150,\n",
            "                        \"resize\": \"crop\"\n",
            "                    }\n",
            "                }\n",
            "            }\n",
            "        ]\n",
            "    },\n",
            "    \"extended_entities\": {\n",
            "        \"media\": [\n",
            "            {\n",
            "                \"id\": 1443854458404941800,\n",
            "                \"id_str\": \"1443854458404941827\",\n",
            "                \"indices\": [\n",
            "                    147,\n",
            "                    170\n",
            "                ],\n",
            "                \"media_url\": \"http://pbs.twimg.com/media/FAmZ-uSXMAMy-iz.png\",\n",
            "                \"media_url_https\": \"https://pbs.twimg.com/media/FAmZ-uSXMAMy-iz.png\",\n",
            "                \"url\": \"https://t.co/wmjxIcsheP\",\n",
            "                \"display_url\": \"pic.twitter.com/wmjxIcsheP\",\n",
            "                \"expanded_url\": \"https://twitter.com/SneakerScouts/status/1443854459625431041/photo/1\",\n",
            "                \"type\": \"photo\",\n",
            "                \"sizes\": {\n",
            "                    \"medium\": {\n",
            "                        \"w\": 847,\n",
            "                        \"h\": 619,\n",
            "                        \"resize\": \"fit\"\n",
            "                    },\n",
            "                    \"large\": {\n",
            "                        \"w\": 847,\n",
            "                        \"h\": 619,\n",
            "                        \"resize\": \"fit\"\n",
            "                    },\n",
            "                    \"small\": {\n",
            "                        \"w\": 680,\n",
            "                        \"h\": 497,\n",
            "                        \"resize\": \"fit\"\n",
            "                    },\n",
            "                    \"thumb\": {\n",
            "                        \"w\": 150,\n",
            "                        \"h\": 150,\n",
            "                        \"resize\": \"crop\"\n",
            "                    }\n",
            "                }\n",
            "            }\n",
            "        ]\n",
            "    },\n",
            "    \"source\": \"<a href=\\\"https://www.hootsuite.com\\\" rel=\\\"nofollow\\\">Hootsuite Inc.</a>\",\n",
            "    \"in_reply_to_status_id\": null,\n",
            "    \"in_reply_to_status_id_str\": null,\n",
            "    \"in_reply_to_user_id\": null,\n",
            "    \"in_reply_to_user_id_str\": null,\n",
            "    \"in_reply_to_screen_name\": null,\n",
            "    \"user\": {\n",
            "        \"id\": 792182745942233100,\n",
            "        \"id_str\": \"792182745942233089\",\n",
            "        \"name\": \"#SneakerScouts\",\n",
            "        \"screen_name\": \"SneakerScouts\",\n",
            "        \"location\": \"\",\n",
            "        \"description\": \"The #1 source for sneaker news, release dates, sales, and general information! info@SneakerScouts.com  #SneakerScouts\",\n",
            "        \"url\": \"https://t.co/YBERhCCwh7\",\n",
            "        \"entities\": {\n",
            "            \"url\": {\n",
            "                \"urls\": [\n",
            "                    {\n",
            "                        \"url\": \"https://t.co/YBERhCCwh7\",\n",
            "                        \"expanded_url\": \"http://www.SneakerScouts.com\",\n",
            "                        \"display_url\": \"SneakerScouts.com\",\n",
            "                        \"indices\": [\n",
            "                            0,\n",
            "                            23\n",
            "                        ]\n",
            "                    }\n",
            "                ]\n",
            "            },\n",
            "            \"description\": {\n",
            "                \"urls\": []\n",
            "            }\n",
            "        },\n",
            "        \"protected\": false,\n",
            "        \"followers_count\": 18262,\n",
            "        \"friends_count\": 6397,\n",
            "        \"listed_count\": 82,\n",
            "        \"created_at\": \"Sat Oct 29 01:54:19 +0000 2016\",\n",
            "        \"favourites_count\": 169294,\n",
            "        \"utc_offset\": null,\n",
            "        \"time_zone\": null,\n",
            "        \"geo_enabled\": false,\n",
            "        \"verified\": false,\n",
            "        \"statuses_count\": 301804,\n",
            "        \"lang\": null,\n",
            "        \"contributors_enabled\": false,\n",
            "        \"is_translator\": false,\n",
            "        \"is_translation_enabled\": false,\n",
            "        \"profile_background_color\": \"000000\",\n",
            "        \"profile_background_image_url\": \"http://abs.twimg.com/images/themes/theme1/bg.png\",\n",
            "        \"profile_background_image_url_https\": \"https://abs.twimg.com/images/themes/theme1/bg.png\",\n",
            "        \"profile_background_tile\": false,\n",
            "        \"profile_image_url\": \"http://pbs.twimg.com/profile_images/971422898886868992/K3R78VcP_normal.jpg\",\n",
            "        \"profile_image_url_https\": \"https://pbs.twimg.com/profile_images/971422898886868992/K3R78VcP_normal.jpg\",\n",
            "        \"profile_banner_url\": \"https://pbs.twimg.com/profile_banners/792182745942233089/1540175194\",\n",
            "        \"profile_link_color\": \"000000\",\n",
            "        \"profile_sidebar_border_color\": \"000000\",\n",
            "        \"profile_sidebar_fill_color\": \"000000\",\n",
            "        \"profile_text_color\": \"000000\",\n",
            "        \"profile_use_background_image\": false,\n",
            "        \"has_extended_profile\": false,\n",
            "        \"default_profile\": false,\n",
            "        \"default_profile_image\": false,\n",
            "        \"following\": false,\n",
            "        \"follow_request_sent\": false,\n",
            "        \"notifications\": false,\n",
            "        \"translator_type\": \"none\",\n",
            "        \"withheld_in_countries\": []\n",
            "    },\n",
            "    \"geo\": null,\n",
            "    \"coordinates\": null,\n",
            "    \"place\": null,\n",
            "    \"contributors\": null,\n",
            "    \"is_quote_status\": false,\n",
            "    \"retweet_count\": 2,\n",
            "    \"favorite_count\": 3,\n",
            "    \"favorited\": false,\n",
            "    \"retweeted\": false,\n",
            "    \"possibly_sensitive\": false,\n",
            "    \"lang\": \"en\"\n",
            "}\n"
          ]
        }
      ]
    },
    {
      "cell_type": "markdown",
      "source": [
        "### date range, location counts"
      ],
      "metadata": {
        "id": "8Hrkf5qI1Jyt"
      }
    },
    {
      "cell_type": "code",
      "source": [
        "dates = []\n",
        "country_counts = {}\n",
        "\n",
        "with gzip.open(DATA_FILE, 'rt') as f:\n",
        "    for line in f:\n",
        "        data = json.loads(line)\n",
        "\n",
        "        created_at = data.get(\"created_at\", \"\")\n",
        "        if created_at:\n",
        "            date_obj = datetime.datetime.strptime(created_at, \"%a %b %d %H:%M:%S %z %Y\")\n",
        "            dates.append(date_obj)\n",
        "\n",
        "        country_code = (data.get('place') or {}).get('country_code', '').upper()\n",
        "        if not country_code:\n",
        "            country_code = \"Unknown\"\n",
        "\n",
        "        if country_code in country_counts:\n",
        "            country_counts[country_code] += 1\n",
        "        else:\n",
        "            country_counts[country_code] = 1\n",
        "\n",
        "min_date = min(dates) if dates else None\n",
        "max_date = max(dates) if dates else None\n",
        "\n",
        "print(f\"Total number of dates: {len(dates)}\")\n",
        "print(\"Range of Dates:\", min_date.strftime(\"%Y-%m-%d\") if min_date else \"None\", \"-\", max_date.strftime(\"%Y-%m-%d\") if max_date else \"None\", '\\n')\n",
        "print(\"Unique location count:\", len(country_counts))\n",
        "print(\"List of locations:\", list(country_counts.keys()), '\\n')\n",
        "print(f\"Total number of data: {sum(country_counts.values())}\")\n",
        "for country_code, count in country_counts.items():\n",
        "    print(f\"{country_code}: {count}\")\n"
      ],
      "metadata": {
        "colab": {
          "base_uri": "https://localhost:8080/"
        },
        "id": "1qoyzgUDtkRS",
        "outputId": "336edceb-4d1a-4666-8d75-0f81d7ec3bca"
      },
      "execution_count": null,
      "outputs": [
        {
          "output_type": "stream",
          "name": "stdout",
          "text": [
            "Total number of dates: 175078\n",
            "Range of Dates: 2021-10-01 - 2022-01-01 \n",
            "\n",
            "Unique location count: 6\n",
            "List of locations: ['Unknown', 'US', 'CA', 'TR', 'MX', 'GR'] \n",
            "\n",
            "Total number of data: 175078\n",
            "Unknown: 169351\n",
            "US: 5713\n",
            "CA: 10\n",
            "TR: 1\n",
            "MX: 2\n",
            "GR: 1\n"
          ]
        }
      ]
    },
    {
      "cell_type": "markdown",
      "source": [
        "### filter tweets"
      ],
      "metadata": {
        "id": "Mmz5jYCV1xeI"
      }
    },
    {
      "cell_type": "code",
      "source": [
        "def match_tweet(tweet, country_codes=None, start_date=None, end_date=None):\n",
        "\n",
        "    country_code = (tweet.get('place') or {}).get('country_code', '').upper()\n",
        "    country_match = not country_codes or country_code in (code.upper() for code in country_codes)\n",
        "\n",
        "    created_at = datetime.datetime.strptime(tweet[\"created_at\"], \"%a %b %d %H:%M:%S +0000 %Y\").date()\n",
        "    date_match = (start_date or created_at) <= created_at <= (end_date or created_at)\n",
        "\n",
        "    return country_match and date_match\n",
        "\n",
        "\n",
        "def filter_tweets(tweets, country_codes=None, start_date=None, end_date=None):\n",
        "    for tweet in tweets:\n",
        "        if isinstance(tweet, (bytes, str)):\n",
        "            tweet = json.loads(tweet)\n",
        "        if match_tweet(tweet, country_codes, start_date, end_date):\n",
        "            yield tweet"
      ],
      "metadata": {
        "id": "UFP9PdB79yYk"
      },
      "execution_count": null,
      "outputs": []
    },
    {
      "cell_type": "code",
      "source": [
        "with gzip.open(DATA_FILE) as f:\n",
        "  us_tweets = list(filter_tweets(f, country_codes=['us']))\n",
        "\n",
        "len(us_tweets)"
      ],
      "metadata": {
        "colab": {
          "base_uri": "https://localhost:8080/"
        },
        "id": "kHRjfC55qrTC",
        "outputId": "de709cce-1c03-4ac3-b1f5-c577b57295e7"
      },
      "execution_count": null,
      "outputs": [
        {
          "output_type": "execute_result",
          "data": {
            "text/plain": [
              "5713"
            ]
          },
          "metadata": {},
          "execution_count": 5
        }
      ]
    },
    {
      "cell_type": "code",
      "source": [
        "start = datetime.date.fromisoformat('2021-12-01')\n",
        "end = datetime.date.fromisoformat('2021-12-31')\n",
        "\n",
        "dec_us_tweets = list(filter_tweets(us_tweets, start_date=start, end_date=end))\n",
        "len(dec_us_tweets)"
      ],
      "metadata": {
        "colab": {
          "base_uri": "https://localhost:8080/"
        },
        "id": "VtVRoAOlqtCB",
        "outputId": "40acb84b-9aae-4f3b-f80f-f7f866cb1f11"
      },
      "execution_count": null,
      "outputs": [
        {
          "output_type": "execute_result",
          "data": {
            "text/plain": [
              "1886"
            ]
          },
          "metadata": {},
          "execution_count": 6
        }
      ]
    },
    {
      "cell_type": "markdown",
      "source": [
        "### tweet text examples\n",
        "nike, adidas, lululemon"
      ],
      "metadata": {
        "id": "lT8CRz5o14KX"
      }
    },
    {
      "cell_type": "code",
      "source": [
        "LIMIT = 10\n",
        "\n",
        "with gzip.open(DATA_FILE) as f:\n",
        "  for i, line in enumerate(f):\n",
        "    if i >= LIMIT:\n",
        "      break\n",
        "    data = json.loads(line)\n",
        "    text = data.get('full_text') or data.get('text')\n",
        "    if 'nike' or 'adidas' or 'lululemon' in text.lower():\n",
        "      print(i, text)"
      ],
      "metadata": {
        "colab": {
          "base_uri": "https://localhost:8080/"
        },
        "id": "7wJ9mIhR05mA",
        "outputId": "dbbc1b38-5f70-44f0-d5e5-4e15eb497e89"
      },
      "execution_count": 7,
      "outputs": [
        {
          "output_type": "stream",
          "name": "stdout",
          "text": [
            "0 #ad The Nike Women's Air More Uptempo 96 'White/Opti Yellow' is now available via @footlocker! |$160| #SneakerScouts @Nike https://t.co/5lAq7b2ffU https://t.co/wmjxIcsheP\n",
            "1 @_christiankeith @d1vetsam @KicksFinder They are available too at @adidas\n",
            "2 Proof @LaserShip is stealing. I work from home and have a ring doorbell. @wsoctv @Nike @wcnc @wbtv @bbb_us https://t.co/9o3stezjgs\n",
            "3 RT @pyleaks: *LEAK ALERT*: The next Supreme x @Nike collab for Spring 2022 will feature the Nike Shox Ride 2.\n",
            "The duo will be dropping 3 co…\n",
            "4 RT @SneakerScouts: #ad The Space Jam x Nike LeBron 18 Low 'Sylvester vs. Tweety' is now available via @snipes_usa! |$160| #SneakerScouts @K…\n",
            "5 Via Nike⁠ SNKRS: can I get a W ⁦@Nike⁩ ⁦@nikebasketball⁩ #snkrs  https://t.co/lQ6zKN1Oq6\n",
            "6 SELENA boosted up Puma stocks by 40% \n",
            "Her partnership helped Puma grow faster\n",
            " than rivals @Adidas &amp; @Nike https://t.co/uRKsuz32lj\n",
            "7 RT @etnow: We’re happier than ever as @BillieEilish teams up with @Nike to release sustainable Air Jordans. 👟💚\n",
            "\n",
            "https://t.co/5yvsm4slSB\n",
            "8 RT @R_Riakporhe: It’s been a real struggle to get here but without the support of the Riakporhe army, @adidas, close friends &amp; family it wo…\n",
            "9 @JBside13 @Nike @Chiefs That’s sick\n"
          ]
        }
      ]
    }
  ]
}